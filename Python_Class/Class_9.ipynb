{
 "cells": [
  {
   "cell_type": "markdown",
   "metadata": {},
   "source": [
    "## Change the background and turtle type"
   ]
  },
  {
   "cell_type": "code",
   "execution_count": 1,
   "metadata": {},
   "outputs": [],
   "source": [
    "import turtle as t\n",
    "\n",
    "screen = t.Screen()\n",
    "#Use own background pic\n",
    "screen.bgpic(\"background.gif\")\n",
    "\n",
    "#Use own turtle shape\n",
    "##Register the shape\n",
    "t.register_shape(\"mario.gif\")\n",
    "\n",
    "player = t.Turtle()\n",
    "##Call the shape in the .shape() function\n",
    "player.shape(\"mario.gif\")\n",
    "player.forward(100)\n",
    "\n"
   ]
  }
 ],
 "metadata": {
  "kernelspec": {
   "display_name": "Python 3",
   "language": "python",
   "name": "python3"
  },
  "language_info": {
   "codemirror_mode": {
    "name": "ipython",
    "version": 3
   },
   "file_extension": ".py",
   "mimetype": "text/x-python",
   "name": "python",
   "nbconvert_exporter": "python",
   "pygments_lexer": "ipython3",
   "version": "3.6.1"
  }
 },
 "nbformat": 4,
 "nbformat_minor": 2
}
