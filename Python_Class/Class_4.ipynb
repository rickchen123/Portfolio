{
 "cells": [
  {
   "cell_type": "markdown",
   "metadata": {},
   "source": [
    "# More Control Flow"
   ]
  },
  {
   "cell_type": "markdown",
   "metadata": {},
   "source": [
    "### RECAP"
   ]
  },
  {
   "cell_type": "markdown",
   "metadata": {},
   "source": [
    "Ex.1 Write a program that asks the user if he/she likes python. Print “awesome” if the answer is ‘yes’ and print “wrong answer, try again” if the answer is ‘no’!"
   ]
  },
  {
   "cell_type": "code",
   "execution_count": 57,
   "metadata": {},
   "outputs": [
    {
     "name": "stdout",
     "output_type": "stream",
     "text": [
      "Do you like python?aaaa\n",
      "please choose between 'yes' and 'no' \n"
     ]
    }
   ],
   "source": [
    "answer = input(\"Do you like python?\")\n",
    "if answer == 'yes':\n",
    "    print(\"awesome\")\n",
    "elif answer == 'no':\n",
    "    print('wrong answer')\n",
    "else:\n",
    "    print(\"please choose between 'yes' and 'no' \")"
   ]
  },
  {
   "cell_type": "markdown",
   "metadata": {},
   "source": [
    "Ex.2 Write a program that requires the user to input a letter, if the letter is ‘a’ or ‘A’, print ‘awesome’, otherwise print “I was thinking about ‘a’/ ‘A’ ” "
   ]
  },
  {
   "cell_type": "code",
   "execution_count": 61,
   "metadata": {},
   "outputs": [
    {
     "name": "stdout",
     "output_type": "stream",
     "text": [
      "enter a lettera\n",
      "awesome\n"
     ]
    }
   ],
   "source": [
    "answer = input('enter a letter')\n",
    "if answer == 'a':\n",
    "    print('awesome')\n",
    "elif answer == 'A':\n",
    "    print('awesome')\n",
    "else:\n",
    "    print(\" I was thinking about 'a'/ 'A' \")"
   ]
  },
  {
   "cell_type": "code",
   "execution_count": 64,
   "metadata": {},
   "outputs": [
    {
     "name": "stdout",
     "output_type": "stream",
     "text": [
      "enter a letterA\n",
      "Awesome\n"
     ]
    }
   ],
   "source": [
    "answer = input('enter a letter')\n",
    "if answer =='a' or answer == 'A':\n",
    "    print('Awesome')\n",
    "else:\n",
    "    print(\" I was thinking about 'a'/ 'A' \")"
   ]
  },
  {
   "cell_type": "markdown",
   "metadata": {},
   "source": [
    "Ex.3 Let the user choose from a, b, c and print the letter the user chose. For example, if the user choose letter a, the program should print: you chose a. if the user input an invalid letter, print: the letter is invalid. Write this program using if-else statement. (hint: you might want to add elif in there)"
   ]
  },
  {
   "cell_type": "code",
   "execution_count": 68,
   "metadata": {},
   "outputs": [
    {
     "name": "stdout",
     "output_type": "stream",
     "text": [
      "choose a letter from a, b ,cd\n",
      "the letter is invalid\n"
     ]
    }
   ],
   "source": [
    "answer = input('choose a letter from a, b ,c')\n",
    "if answer == 'a':\n",
    "    print(\"you choose 'a'\")\n",
    "elif answer == 'b':\n",
    "    print(\"you choose 'b'\")\n",
    "elif answer == 'c':\n",
    "    print(\"you choose 'c'\")\n",
    "else:\n",
    "    print('the letter is invalid')"
   ]
  },
  {
   "cell_type": "markdown",
   "metadata": {},
   "source": [
    "### Little Interactive Programs"
   ]
  },
  {
   "cell_type": "markdown",
   "metadata": {
    "collapsed": true
   },
   "source": [
    "#### 1. Return the length of the input string, if input == quit, break"
   ]
  },
  {
   "cell_type": "code",
   "execution_count": 69,
   "metadata": {},
   "outputs": [
    {
     "name": "stdout",
     "output_type": "stream",
     "text": [
      "Enter something: today is a good day\n",
      "The length of the string is 19\n",
      "Enter something: quit\n"
     ]
    }
   ],
   "source": [
    "while True:\n",
    "    string = input('Enter something: ')\n",
    "    if string == 'quit':\n",
    "        break\n",
    "    print('The length of the string is', len(string))"
   ]
  },
  {
   "cell_type": "markdown",
   "metadata": {
    "collapsed": true
   },
   "source": [
    "#### 2. Return the length of an input string, if input == quit, break. If length of the input string is less than 3, give a feedback and continue"
   ]
  },
  {
   "cell_type": "code",
   "execution_count": 71,
   "metadata": {},
   "outputs": [
    {
     "name": "stdout",
     "output_type": "stream",
     "text": [
      "Enter something: by\n",
      "Too short\n",
      "Enter something: today is a good day\n",
      "The length of the string is 19\n",
      "Enter something: quit\n"
     ]
    }
   ],
   "source": [
    "while True:\n",
    "    string = input('Enter something: ')\n",
    "    if string == 'quit':\n",
    "        break\n",
    "    if len(string) < 3:\n",
    "        print('Too short')\n",
    "        continue\n",
    "    print('The length of the string is', len(string))"
   ]
  },
  {
   "cell_type": "markdown",
   "metadata": {
    "collapsed": true
   },
   "source": [
    "#### Guessing number"
   ]
  },
  {
   "cell_type": "code",
   "execution_count": 74,
   "metadata": {},
   "outputs": [
    {
     "name": "stdout",
     "output_type": "stream",
     "text": [
      "Enter an integer:23\n",
      "Congrats, you win\n"
     ]
    }
   ],
   "source": [
    "number = 23\n",
    "chance = 10\n",
    "while True:\n",
    "    guess = int(input('Enter an integer:'))\n",
    "    if guess > 100 or guess < 1:\n",
    "        print(\"Please enter a number between 1 and 100\")\n",
    "        continue\n",
    "    elif guess == number:\n",
    "        print('Congrats, you win')\n",
    "        break\n",
    "    chance = chance - 1\n",
    "    print('Chances remaining:', chance)\n",
    "    if chance < 1:\n",
    "        print('You have used up your chances, the correct number is', number)\n",
    "        break\n",
    "    elif guess < number:\n",
    "        print('No, it is a litte higher than that.')\n",
    "        \n",
    "    else:\n",
    "        print('No, it is a litte lower than that.')"
   ]
  },
  {
   "cell_type": "markdown",
   "metadata": {
    "collapsed": true
   },
   "source": [
    "## FOR LOOP"
   ]
  },
  {
   "cell_type": "markdown",
   "metadata": {
    "collapsed": true
   },
   "source": [
    "A **for loop** is used for iterating over a sequence (that is either a list, a tuple, a dictrionary, a set, or a string)"
   ]
  },
  {
   "cell_type": "code",
   "execution_count": 77,
   "metadata": {},
   "outputs": [
    {
     "name": "stdout",
     "output_type": "stream",
     "text": [
      "apple\n",
      "banana\n",
      "cherry\n"
     ]
    }
   ],
   "source": [
    "fruit = ['apple', 'banana', 'cherry']\n",
    "for fruits in fruit:\n",
    "    print(fruits)"
   ]
  },
  {
   "cell_type": "markdown",
   "metadata": {},
   "source": [
    "<img src=\"../forLoop.jpg\">"
   ]
  },
  {
   "cell_type": "markdown",
   "metadata": {
    "collapsed": true
   },
   "source": [
    "#### Looping through a string"
   ]
  },
  {
   "cell_type": "code",
   "execution_count": 78,
   "metadata": {},
   "outputs": [
    {
     "name": "stdout",
     "output_type": "stream",
     "text": [
      "b\n",
      "a\n",
      "n\n",
      "a\n",
      "n\n",
      "a\n"
     ]
    }
   ],
   "source": [
    "string = 'banana'\n",
    "for letter in string:\n",
    "    print(letter)"
   ]
  },
  {
   "cell_type": "code",
   "execution_count": 79,
   "metadata": {},
   "outputs": [
    {
     "name": "stdout",
     "output_type": "stream",
     "text": [
      "b\n",
      "a\n",
      "n\n",
      "a\n",
      "n\n",
      "a\n"
     ]
    }
   ],
   "source": [
    "for letter in 'banana':\n",
    "    print(letter)"
   ]
  },
  {
   "cell_type": "markdown",
   "metadata": {
    "collapsed": true
   },
   "source": [
    "#### break statement"
   ]
  },
  {
   "cell_type": "code",
   "execution_count": 80,
   "metadata": {},
   "outputs": [
    {
     "name": "stdout",
     "output_type": "stream",
     "text": [
      "apple\n",
      "banana\n"
     ]
    }
   ],
   "source": [
    "fruit = ['apple', 'banana', 'cherry']\n",
    "for x in fruit:\n",
    "    print(x)\n",
    "    if x == 'banana':\n",
    "        break"
   ]
  },
  {
   "cell_type": "code",
   "execution_count": 81,
   "metadata": {},
   "outputs": [
    {
     "name": "stdout",
     "output_type": "stream",
     "text": [
      "apple\n"
     ]
    }
   ],
   "source": [
    "for x in fruit:\n",
    "    if x == 'banana':\n",
    "        break\n",
    "    print(x)"
   ]
  },
  {
   "cell_type": "markdown",
   "metadata": {
    "collapsed": true
   },
   "source": [
    "### continue statement"
   ]
  },
  {
   "cell_type": "code",
   "execution_count": 82,
   "metadata": {},
   "outputs": [
    {
     "name": "stdout",
     "output_type": "stream",
     "text": [
      "apple\n",
      "cherry\n"
     ]
    }
   ],
   "source": [
    "fruit = ['apple', 'banana', 'cherry']\n",
    "for x in fruit:\n",
    "    if x == 'banana':\n",
    "        continue\n",
    "    print(x)"
   ]
  },
  {
   "cell_type": "markdown",
   "metadata": {
    "collapsed": true
   },
   "source": [
    "### range() function"
   ]
  },
  {
   "cell_type": "markdown",
   "metadata": {
    "collapsed": true
   },
   "source": [
    "To loop through a set of code a specified number of times, we can use the **range()** function, the **range()** function returns a sequence of numbers, starting from 0 by default, and increment by 1 by default, and ends at a specified number."
   ]
  },
  {
   "cell_type": "code",
   "execution_count": 83,
   "metadata": {},
   "outputs": [
    {
     "data": {
      "text/plain": [
       "[0, 1, 2, 3, 4, 5]"
      ]
     },
     "execution_count": 83,
     "metadata": {},
     "output_type": "execute_result"
    }
   ],
   "source": [
    "list(range(6))"
   ]
  },
  {
   "cell_type": "code",
   "execution_count": 84,
   "metadata": {},
   "outputs": [
    {
     "name": "stdout",
     "output_type": "stream",
     "text": [
      "0\n",
      "1\n",
      "2\n",
      "3\n",
      "4\n",
      "5\n"
     ]
    }
   ],
   "source": [
    "for x in range(6):\n",
    "    print(x)"
   ]
  },
  {
   "cell_type": "code",
   "execution_count": 85,
   "metadata": {},
   "outputs": [
    {
     "name": "stdout",
     "output_type": "stream",
     "text": [
      "2\n",
      "3\n",
      "4\n",
      "5\n"
     ]
    }
   ],
   "source": [
    "for x in range(2,6):\n",
    "    print(x)"
   ]
  },
  {
   "cell_type": "code",
   "execution_count": 86,
   "metadata": {},
   "outputs": [
    {
     "name": "stdout",
     "output_type": "stream",
     "text": [
      "2\n",
      "4\n",
      "6\n",
      "8\n",
      "10\n",
      "12\n",
      "14\n",
      "16\n",
      "18\n",
      "20\n"
     ]
    }
   ],
   "source": [
    "for x in range(2,21,2):\n",
    "    print(x)"
   ]
  },
  {
   "cell_type": "code",
   "execution_count": 88,
   "metadata": {},
   "outputs": [
    {
     "name": "stdout",
     "output_type": "stream",
     "text": [
      "pop\n",
      "rock\n",
      "jazz\n"
     ]
    }
   ],
   "source": [
    "music = ['pop', 'rock','jazz']\n",
    "for x in range(len(music)):\n",
    "    print(music[x])"
   ]
  },
  {
   "cell_type": "code",
   "execution_count": 87,
   "metadata": {},
   "outputs": [
    {
     "data": {
      "text/plain": [
       "[0, 1, 2]"
      ]
     },
     "execution_count": 87,
     "metadata": {},
     "output_type": "execute_result"
    }
   ],
   "source": [
    "music = ['pop', 'rock','jazz']\n",
    "list(range(len(music)))"
   ]
  },
  {
   "cell_type": "markdown",
   "metadata": {
    "collapsed": true
   },
   "source": [
    "### Nested Loops"
   ]
  },
  {
   "cell_type": "code",
   "execution_count": 93,
   "metadata": {},
   "outputs": [
    {
     "name": "stdout",
     "output_type": "stream",
     "text": [
      "red apple\n",
      "red banana\n",
      "red cherry\n",
      "big apple\n",
      "big banana\n",
      "big cherry\n",
      "tasty apple\n",
      "tasty banana\n",
      "tasty cherry\n"
     ]
    }
   ],
   "source": [
    "adj = ['red', 'big','tasty']\n",
    "fruits = ['apple', 'banana','cherry']\n",
    "\n",
    "for x in adj:\n",
    "    for y in fruits:\n",
    "        print(x,y)"
   ]
  },
  {
   "cell_type": "code",
   "execution_count": 94,
   "metadata": {},
   "outputs": [
    {
     "name": "stdout",
     "output_type": "stream",
     "text": [
      "Enter an integer:5\n",
      "Yes, the word contains 5 letters\n",
      "Enter a letter:a\n",
      "Yes, the word contains a\n",
      "Enter a letter:e\n",
      "No, e is not in the word\n",
      "Enter a letter:l\n",
      "No, l is not in the word\n",
      "Enter a letter:p\n",
      "No, p is not in the word\n",
      "Enter a letter:n\n",
      "Yes, the word contains n\n",
      "Enter a letter:r\n",
      "No, r is not in the word\n",
      "Enter a letter:c\n",
      "Yes, the word contains c\n",
      "Do you want to guess what the word is? (y/n) \n",
      "n\n",
      "Keep guessing letters\n",
      "\n",
      "Enter a letter:d\n",
      "Yes, the word contains d\n",
      "Do you want to guess what the word is? (y/n) \n",
      "candy\n",
      "Keep guessing letters\n",
      "\n",
      "Enter a letter:y\n",
      "Yes, the word contains y\n",
      "Do you want to guess what the word is? (y/n) \n",
      "y\n",
      "What the word?\n",
      "candy\n",
      "Congratulations, you are correct!\n"
     ]
    }
   ],
   "source": [
    "guessing_word()"
   ]
  },
  {
   "cell_type": "code",
   "execution_count": null,
   "metadata": {
    "collapsed": true
   },
   "outputs": [],
   "source": []
  },
  {
   "cell_type": "code",
   "execution_count": null,
   "metadata": {
    "collapsed": true
   },
   "outputs": [],
   "source": []
  },
  {
   "cell_type": "code",
   "execution_count": null,
   "metadata": {
    "collapsed": true
   },
   "outputs": [],
   "source": []
  },
  {
   "cell_type": "code",
   "execution_count": null,
   "metadata": {
    "collapsed": true
   },
   "outputs": [],
   "source": []
  },
  {
   "cell_type": "code",
   "execution_count": null,
   "metadata": {
    "collapsed": true
   },
   "outputs": [],
   "source": []
  },
  {
   "cell_type": "code",
   "execution_count": null,
   "metadata": {
    "collapsed": true
   },
   "outputs": [],
   "source": []
  },
  {
   "cell_type": "code",
   "execution_count": null,
   "metadata": {
    "collapsed": true
   },
   "outputs": [],
   "source": []
  },
  {
   "cell_type": "code",
   "execution_count": null,
   "metadata": {
    "collapsed": true
   },
   "outputs": [],
   "source": []
  },
  {
   "cell_type": "code",
   "execution_count": null,
   "metadata": {
    "collapsed": true
   },
   "outputs": [],
   "source": []
  },
  {
   "cell_type": "code",
   "execution_count": null,
   "metadata": {
    "collapsed": true
   },
   "outputs": [],
   "source": []
  },
  {
   "cell_type": "code",
   "execution_count": null,
   "metadata": {
    "collapsed": true
   },
   "outputs": [],
   "source": []
  },
  {
   "cell_type": "code",
   "execution_count": null,
   "metadata": {
    "collapsed": true
   },
   "outputs": [],
   "source": []
  },
  {
   "cell_type": "code",
   "execution_count": null,
   "metadata": {
    "collapsed": true
   },
   "outputs": [],
   "source": []
  },
  {
   "cell_type": "code",
   "execution_count": null,
   "metadata": {
    "collapsed": true
   },
   "outputs": [],
   "source": []
  },
  {
   "cell_type": "code",
   "execution_count": null,
   "metadata": {
    "collapsed": true
   },
   "outputs": [],
   "source": []
  },
  {
   "cell_type": "code",
   "execution_count": null,
   "metadata": {
    "collapsed": true
   },
   "outputs": [],
   "source": []
  },
  {
   "cell_type": "code",
   "execution_count": null,
   "metadata": {
    "collapsed": true
   },
   "outputs": [],
   "source": []
  },
  {
   "cell_type": "code",
   "execution_count": null,
   "metadata": {
    "collapsed": true
   },
   "outputs": [],
   "source": []
  },
  {
   "cell_type": "code",
   "execution_count": null,
   "metadata": {
    "collapsed": true
   },
   "outputs": [],
   "source": []
  },
  {
   "cell_type": "code",
   "execution_count": null,
   "metadata": {
    "collapsed": true
   },
   "outputs": [],
   "source": []
  },
  {
   "cell_type": "code",
   "execution_count": null,
   "metadata": {
    "collapsed": true
   },
   "outputs": [],
   "source": []
  },
  {
   "cell_type": "code",
   "execution_count": null,
   "metadata": {
    "collapsed": true
   },
   "outputs": [],
   "source": []
  },
  {
   "cell_type": "code",
   "execution_count": null,
   "metadata": {
    "collapsed": true
   },
   "outputs": [],
   "source": []
  },
  {
   "cell_type": "code",
   "execution_count": null,
   "metadata": {
    "collapsed": true
   },
   "outputs": [],
   "source": []
  },
  {
   "cell_type": "code",
   "execution_count": null,
   "metadata": {
    "collapsed": true
   },
   "outputs": [],
   "source": []
  },
  {
   "cell_type": "code",
   "execution_count": 53,
   "metadata": {
    "collapsed": true
   },
   "outputs": [],
   "source": [
    "def guessing_word():\n",
    "    word = 'candy'\n",
    "    running = True\n",
    "    count = 0\n",
    "    while running:\n",
    "        guess = int(input(\"Enter an integer:\"))\n",
    "        if guess == len(word):\n",
    "            print('Yes, the word contains',len(word),'letters')\n",
    "            while True:\n",
    "                guess_letter = input('Enter a letter:')\n",
    "                if guess_letter in word:\n",
    "                    print('Yes, the word contains', guess_letter)\n",
    "                    count = count+1\n",
    "                    if count >= len(word)/2:\n",
    "                        final_guess = input('Do you want to guess what the word is? (y/n) \\n')\n",
    "                        if final_guess == 'y':\n",
    "                            final_guess_word = input('What the word?\\n')\n",
    "                            if final_guess_word == word:\n",
    "                                print('Congratulations, you are correct!')\n",
    "                                break\n",
    "                            else:\n",
    "                                print('No, the word is not',final_guess_word)\n",
    "                        else:\n",
    "                            print('Keep guessing letters\\n')\n",
    "                else:\n",
    "                    print('No,', guess_letter,'is not in the word')\n",
    "                running = False\n",
    "        elif guess < len(word):\n",
    "            print(\"No, it is a litter higher than that.\")\n",
    "        else:\n",
    "            print(\"No, it is a litter lower than that.\")"
   ]
  }
 ],
 "metadata": {
  "kernelspec": {
   "display_name": "Python 3",
   "language": "python",
   "name": "python3"
  },
  "language_info": {
   "codemirror_mode": {
    "name": "ipython",
    "version": 3
   },
   "file_extension": ".py",
   "mimetype": "text/x-python",
   "name": "python",
   "nbconvert_exporter": "python",
   "pygments_lexer": "ipython3",
   "version": "3.6.1"
  }
 },
 "nbformat": 4,
 "nbformat_minor": 2
}
